{
 "cells": [
  {
   "cell_type": "markdown",
   "id": "3aae6fe3",
   "metadata": {},
   "source": [
    "# Welcome to numpy"
   ]
  },
  {
   "cell_type": "code",
   "execution_count": 1,
   "id": "0aefc926",
   "metadata": {},
   "outputs": [
    {
     "name": "stdout",
     "output_type": "stream",
     "text": [
      "3.13.2 (v3.13.2:4f8bb3947cf, Feb  4 2025, 11:51:10) [Clang 15.0.0 (clang-1500.3.9.4)]\n"
     ]
    }
   ],
   "source": [
    "import sys \n",
    "print(sys.version)"
   ]
  },
  {
   "cell_type": "code",
   "execution_count": 6,
   "id": "b4d9fc78",
   "metadata": {},
   "outputs": [
    {
     "name": "stdout",
     "output_type": "stream",
     "text": [
      "Collecting numpy\n",
      "  Using cached numpy-2.3.1-cp313-cp313-macosx_14_0_arm64.whl.metadata (62 kB)\n",
      "Using cached numpy-2.3.1-cp313-cp313-macosx_14_0_arm64.whl (5.1 MB)\n",
      "Installing collected packages: numpy\n",
      "Successfully installed numpy-2.3.1\n",
      "[1 2 3 4 5]\n"
     ]
    }
   ],
   "source": [
    "!pip install numpy\n",
    "import numpy as np\n",
    "myarr = np.array([1,2,3,4,5,])\n",
    "print(myarr) "
   ]
  },
  {
   "cell_type": "code",
   "execution_count": 7,
   "id": "a2616a24",
   "metadata": {},
   "outputs": [
    {
     "name": "stdout",
     "output_type": "stream",
     "text": [
      "2.3.1\n"
     ]
    }
   ],
   "source": [
    "import numpy as np\n",
    "print(np.__version__)"
   ]
  },
  {
   "cell_type": "code",
   "execution_count": 14,
   "id": "5a06a6b0",
   "metadata": {},
   "outputs": [
    {
     "name": "stdout",
     "output_type": "stream",
     "text": [
      "[[1 2 3 4 5 6]]\n"
     ]
    },
    {
     "data": {
      "text/plain": [
       "dtype('int64')"
      ]
     },
     "execution_count": 14,
     "metadata": {},
     "output_type": "execute_result"
    }
   ],
   "source": [
    "import numpy as np\n",
    "myarray = np.array([[1,2,3,4,5,6]], np.int64)\n",
    "print(myarray) \n",
    "myarray.shape\n",
    "myarray.dtype"
   ]
  },
  {
   "cell_type": "code",
   "execution_count": null,
   "id": "4693b90b",
   "metadata": {},
   "outputs": [
    {
     "name": "stdout",
     "output_type": "stream",
     "text": [
      "2\n",
      "[[ 2.4   3.    8.  ]\n",
      " [ 4.91  7.    9.  ]\n",
      " [ 0.   -1.   10.  ]]\n"
     ]
    },
    {
     "data": {
      "text/plain": [
       "8"
      ]
     },
     "execution_count": 34,
     "metadata": {},
     "output_type": "execute_result"
    }
   ],
   "source": [
    "\n",
    "\n",
    "import numpy as np\n",
    "# myarr2 = np.array([1,2,4.65,6,7], np.float32)\n",
    "# print(myarr2)\n",
    "# myarr2.shape\n",
    "\n",
    "\n",
    "#Creating a 2-D Array\n",
    "#We can create a two dimensional (2-D) arrays by\n",
    "#passing nested lists to the array() function.\n",
    "# Observe that the integers 3, 7, 0 and -1 have been\n",
    "#promoted to floats. \n",
    "\n",
    "arr3 = np.array([[2.4,3,8],[4.91,7,9],[0,-1,10]])\n",
    "print(arr3.ndim)\n",
    "print(arr3)\n",
    "\n",
    "arr3.shape\n",
    "\n",
    "arr3.itemsize # 3x3 matrix has 8 bytes per item it store float 64 bit each items...\n",
    "\n",
    "arr3.size # 3x3 matrix has 9 items in it\n",
    "\n",
    "\n"
   ]
  },
  {
   "cell_type": "code",
   "execution_count": null,
   "id": "becf9140",
   "metadata": {},
   "outputs": [],
   "source": []
  },
  {
   "cell_type": "code",
   "execution_count": null,
   "id": "af784fee",
   "metadata": {},
   "outputs": [],
   "source": []
  }
 ],
 "metadata": {
  "kernelspec": {
   "display_name": ".venv",
   "language": "python",
   "name": "python3"
  },
  "language_info": {
   "codemirror_mode": {
    "name": "ipython",
    "version": 3
   },
   "file_extension": ".py",
   "mimetype": "text/x-python",
   "name": "python",
   "nbconvert_exporter": "python",
   "pygments_lexer": "ipython3",
   "version": "3.13.2"
  }
 },
 "nbformat": 4,
 "nbformat_minor": 5
}
