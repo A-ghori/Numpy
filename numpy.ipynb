{
 "cells": [
  {
   "cell_type": "markdown",
   "id": "3aae6fe3",
   "metadata": {},
   "source": [
    "# Welcome to numpy"
   ]
  },
  {
   "cell_type": "code",
   "execution_count": 1,
   "id": "0aefc926",
   "metadata": {},
   "outputs": [
    {
     "name": "stdout",
     "output_type": "stream",
     "text": [
      "3.13.2 (v3.13.2:4f8bb3947cf, Feb  4 2025, 11:51:10) [Clang 15.0.0 (clang-1500.3.9.4)]\n"
     ]
    }
   ],
   "source": [
    "import sys \n",
    "print(sys.version)"
   ]
  },
  {
   "cell_type": "markdown",
   "id": "81ef152b",
   "metadata": {},
   "source": [
    "# THE MAIN 1D 2D 3D ARRAY "
   ]
  },
  {
   "cell_type": "code",
   "execution_count": 3,
   "id": "b4d9fc78",
   "metadata": {},
   "outputs": [
    {
     "name": "stdout",
     "output_type": "stream",
     "text": [
      "[1 2 3 4 5]\n",
      "ndim = 1\n",
      "[[1 2 3]\n",
      " [4 5 6]]\n",
      "ndim = 2\n",
      "[[[1 2]\n",
      "  [3 4]]\n",
      "\n",
      " [[5 6]\n",
      "  [7 8]]]\n",
      "ndim = 3\n"
     ]
    }
   ],
   "source": [
    "import numpy as np\n",
    "myarr = np.array([1,2,3,4,5,])\n",
    "print(myarr)  #this is a 1D array\n",
    "print(\"ndim =\", myarr.ndim)  #1d of the array\n",
    "\n",
    "arr2d = np.array([[1, 2, 3], [4, 5, 6]])\n",
    "print(arr2d)\n",
    "print(\"ndim =\", arr2d.ndim)\n",
    "\n",
    "\n",
    "\n",
    "arr3d = np.array([\n",
    "  [[1, 2], [3, 4]],\n",
    "  [[5, 6], [7, 8]]\n",
    "])\n",
    "print(arr3d)\n",
    "print(\"ndim =\", arr3d.ndim)"
   ]
  },
  {
   "cell_type": "code",
   "execution_count": 14,
   "id": "5a06a6b0",
   "metadata": {},
   "outputs": [
    {
     "name": "stdout",
     "output_type": "stream",
     "text": [
      "[[1 2 3 4 5 6]]\n"
     ]
    },
    {
     "data": {
      "text/plain": [
       "dtype('int64')"
      ]
     },
     "execution_count": 14,
     "metadata": {},
     "output_type": "execute_result"
    }
   ],
   "source": [
    "import numpy as np\n",
    "myarray = np.array([[1,2,3,4,5,6]], np.int64)\n",
    "print(myarray) \n",
    "myarray.shape\n",
    "myarray.dtype"
   ]
  },
  {
   "cell_type": "code",
   "execution_count": 35,
   "id": "4693b90b",
   "metadata": {},
   "outputs": [
    {
     "name": "stdout",
     "output_type": "stream",
     "text": [
      "2\n",
      "[[ 2.4   3.    8.  ]\n",
      " [ 4.91  7.    9.  ]\n",
      " [ 0.   -1.   10.  ]]\n"
     ]
    },
    {
     "data": {
      "text/plain": [
       "9"
      ]
     },
     "execution_count": 35,
     "metadata": {},
     "output_type": "execute_result"
    }
   ],
   "source": [
    "\n",
    "\n",
    "import numpy as np\n",
    "# myarr2 = np.array([1,2,4.65,6,7], np.float32)\n",
    "# print(myarr2)\n",
    "# myarr2.shape\n",
    "\n",
    "\n",
    "#Creating a 2-D Array\n",
    "#We can create a two dimensional (2-D) arrays by\n",
    "#passing nested lists to the array() function.\n",
    "# Observe that the integers 3, 7, 0 and -1 have been\n",
    "#promoted to floats. \n",
    "\n",
    "arr3 = np.array([[2.4,3,8],[4.91,7,9],[0,-1,10]])\n",
    "print(arr3.ndim)\n",
    "print(arr3)\n",
    "\n",
    "arr3.shape\n",
    "\n",
    "arr3.itemsize # 3x3 matrix has 8 bytes per item it store float 64 bit each items...\n",
    "\n",
    "arr3.size # 3x3 matrix has 9 items in it\n",
    "\n",
    "\n"
   ]
  },
  {
   "cell_type": "markdown",
   "id": "1913ea0b",
   "metadata": {},
   "source": [
    "# Zeros Ones Arrange Range \n"
   ]
  },
  {
   "cell_type": "code",
   "execution_count": null,
   "id": "becf9140",
   "metadata": {},
   "outputs": [
    {
     "name": "stdout",
     "output_type": "stream",
     "text": [
      "[[1. 1. 1.]\n",
      " [1. 1. 1.]\n",
      " [1. 1. 1.]]\n",
      "False\n",
      "[1 3 5 7 9]\n",
      "[ 1.    3.25  5.5   7.75 10.  ]\n"
     ]
    }
   ],
   "source": [
    "array4 = np.zeros((3,3),np.float32)\n",
    "array4\n",
    "#array4.itemsize #4\n",
    "\n",
    "\n",
    "# array4 = np.array_equal(arr3, array4)\n",
    "# print(array4) # False, because arr3 is not equal to array4\n",
    "\n",
    "array5 = np.ones((3,3),np.float32)\n",
    "print(array5)\n",
    "\n",
    "array4 = np.array_equal(array4, array5)\n",
    "print(array4) # True, because array4 is equal to array5\n",
    "\n",
    "\n",
    "array6 = np.arange(1,10,2)\n",
    "print(array6) # [1 3 5 7 9]\n",
    "array7 = np.linspace(1,10,5)\n",
    "print(array7) # [ 1.   3.25 5.5 7.75 10. ]\n",
    "# Explanation of linspace::\n",
    "#Step\n",
    "# Value\n",
    "# 0\n",
    "# 1.00\n",
    "# 1\n",
    "# 1 + 2.25 = 3.25\n",
    "# 2\n",
    "# 3.25 + 2.25 = 5.5\n",
    "# 3\n",
    "# 5.5 + 2.25 = 7.75\n",
    "# 4\n",
    "# 7.75 + 2.25 = 10.0\n",
    "# (10 - 1) / (5 - 1) = 9 / 4 = 2.25\n",
    "\n",
    "\n",
    "\n"
   ]
  },
  {
   "cell_type": "markdown",
   "id": "fde7ea16",
   "metadata": {},
   "source": [
    "# THE TABLE WITH NAME AND SUBJECTS FROM ANY INDIVIDUAL STUDENTS ACCESS (NUMPY VERSION)"
   ]
  },
  {
   "cell_type": "code",
   "execution_count": 2,
   "id": "af784fee",
   "metadata": {},
   "outputs": [
    {
     "name": "stdout",
     "output_type": "stream",
     "text": [
      "75\n",
      "47\n",
      "[78 76 84 67]\n",
      "[84 59 60]\n"
     ]
    }
   ],
   "source": [
    "import numpy as np\n",
    "marks = np.array([\n",
    "                  [78,67,56],\n",
    "                  [76,75,47],\n",
    "                  [84,59,60],\n",
    "                  [67,72,54]         \n",
    "                  ])\n",
    "# Marks of Vedika in English (row 1, col 1)\n",
    "print(marks[1][1]) #output: 75\n",
    "#FIRST ROW , SECOND COLUMN\n",
    "print(marks[1][2]) #output: 47\n",
    "\n",
    "# All Maths marks (first column)\n",
    "print(marks[:, 0])  # Output: [78 76 84 67]\n",
    "\n",
    "#all marks of HARUN\n",
    "print(marks[2]) # Output: [84 59 60]\n"
   ]
  },
  {
   "cell_type": "markdown",
   "id": "048a289d",
   "metadata": {},
   "source": [
    "# SLICING OPERATIONS TRANSPOSE SORTING"
   ]
  },
  {
   "cell_type": "code",
   "execution_count": null,
   "id": "ce2115ee",
   "metadata": {},
   "outputs": [
    {
     "name": "stdout",
     "output_type": "stream",
     "text": [
      "[2 6 8]\n",
      "ndim = 1\n",
      "shape = (5,)\n",
      "dtype = int64\n",
      "itemsize = 8\n",
      "size = 5\n",
      "[[1 2 3 4 5 6 7 8 9]]\n",
      "ndim = 2\n",
      "shape = (1, 9)\n",
      "[[7 8 9]\n",
      " [4 5 6]\n",
      " [1 2 3]]\n",
      "[[1 2]\n",
      " [3 4]\n",
      " [5 6]\n",
      " [7 8]]\n",
      "[[1 2 5 6]\n",
      " [3 4 7 8]]\n",
      "[[11 22]\n",
      " [13 24]]\n",
      "[[1 2]\n",
      " [3 4]]\n",
      "[[0.32831535 0.01428426 0.0212936 ]\n",
      " [0.10574087 0.50418478 0.0390051 ]\n",
      " [0.03965546 0.406977   0.7269972 ]]\n",
      "Mean value: 5.0\n",
      "Standard deviation: 2.581988897471611\n",
      "Array 1:\n",
      " [[1 2]\n",
      " [3 4]\n",
      " [5 6]]\n",
      "Array 2:\n",
      " [[ 7  8]\n",
      " [ 9 10]\n",
      " [11 12]]\n",
      "Matrix multiplication:\n",
      " [[ 23  29  35]\n",
      " [ 53  67  81]\n",
      " [ 83 105 127]]\n",
      "Sorted array: [1 2 3 4 5]\n",
      "Original array:\n",
      " [[ 10  -7   0  20]\n",
      " [ -5   1 200  40]\n",
      " [ 30   1  -1   4]]\n",
      "Sorted array along columns:\n",
      " [[ -5  -7  -1   4]\n",
      " [ 10   1   0  20]\n",
      " [ 30   1 200  40]]\n",
      "Sorted array along rows:\n",
      " [[ -7  -5  -1   4]\n",
      " [  0   1  10  20]\n",
      " [  1  30  40 200]]\n"
     ]
    }
   ],
   "source": [
    "# Slicing the array\n",
    "# We can slice the array to get a sub-array.\n",
    "array6 = np.array([-2 , 2 ,6 , 8, 10])\n",
    "print(array6[1:4])  # Output: [ 2  6  8]\n",
    "print(\"ndim =\", array6.ndim)  # Output: ndim = 1\n",
    "print(\"shape =\", array6.shape)  # Output: shape = (5,)\n",
    "print(\"dtype =\", array6.dtype)  # Output: dtype = int64\n",
    "print(\"itemsize =\", array6.itemsize)  # Output: itemsize = 8\n",
    "print(\"size =\", array6.size)  # Output: size = 5\n",
    "\n",
    "\n",
    "# Reshaping the array\n",
    "# We can reshape the array to change its dimensions.\n",
    "array7 = np.array([\n",
    "    [1, 2, 3], \n",
    "    [4, 5, 6], \n",
    "    [7, 8, 9]\n",
    "    ])\n",
    "reshaped_array = array7.reshape(1, 9)  # Reshape to 1 row and 9 columns\n",
    "print(reshaped_array)  # Output: [[1 2 3 4 5 6 7 8 9]]\n",
    "print(\"ndim =\", reshaped_array.ndim)  # Output: ndim = 2\n",
    "print(\"shape =\", reshaped_array.shape)  \n",
    "\n",
    "\n",
    "#REVERSING THE ARRAY\n",
    "reversed_array = array7[::-1]  # Reverse the array\n",
    "print(reversed_array)  # Output: [[7 8 9] [4 5 6] [1 2 3]]\n",
    "\n",
    "\n",
    "#Now let us see how slicing is done for 2-D arrays.\n",
    "#For this, let us create a 2-D array called array9 having\n",
    "#3 rows and 4 columns.\n",
    "\n",
    "array9 = np.array([\n",
    "                   [ -7, 0, 10, 20],\n",
    "                   [ -5, 1, 40, 200],\n",
    "                   [ -1, 1, 4, 30]\n",
    "                    ])\n",
    "\n",
    "array9[0:3,2] #0:3 → rows from index 0 to 2 (inclusive)\n",
    "#2   → column index 2 (i.e., 3rd column)\n",
    "\n",
    "\n",
    "#Stacking arrays\n",
    "# We can stack arrays vertically or horizontally.\n",
    "array10 = np.array([[1, 2], [3, 4]])\n",
    "array11 = np.array([[5, 6], [7, 8]])\n",
    "vertical_stack = np.vstack((array10, array11))  # Vertical stacking\n",
    "print(vertical_stack)  # Output: [[1 2] [3 4] [[5 6] [7 8]]\n",
    "horizontal_stack = np.hstack((array10, array11))  # Horizontal stacking\n",
    "print(horizontal_stack)  # Output: [[1 2 5 6] [3 4 7 8]]    \n",
    "\n",
    "\n",
    "# Broadcasting\n",
    "# Broadcasting allows us to perform operations on arrays of different shapes.\n",
    "array12 = np.array([[1, 2], [3, 4]])\n",
    "array13 = np.array([10, 20])  # 1D array\n",
    "result = array12 + array13  # Broadcasting addition\n",
    "print(result)  # Output: [[11 22] [13 24]]\n",
    "\n",
    "# Saving and loading arrays\n",
    "# We can save and load arrays to/from files.\n",
    "np.save('my_array.npy', array12)  # Save array to file\n",
    "loaded_array = np.load('my_array.npy')  # Load array from file\n",
    "print(loaded_array)  # Output: [[1 2] [3 4]]\n",
    "\n",
    "# Random number generation\n",
    "# We can generate random numbers using NumPy.\n",
    "random_array = np.random.rand(3, 3)  # Generate a 3x3 array of random numbers\n",
    "print(random_array)  # Output: Random 3x3 array\n",
    "\n",
    "\n",
    "# Statistical operations\n",
    "# We can perform statistical operations on arrays.\n",
    "mean_value = np.mean(array7)  # Calculate mean\n",
    "print(\"Mean value:\", mean_value)  # Output: Mean value: 5.0\n",
    "std_value = np.std(array7)  # Calculate standard deviation\n",
    "print(\"Standard deviation:\", std_value)  # Output: Standard deviation: 2.581  \n",
    "\n",
    "\n",
    "# Matrix operations\n",
    "# We can perform matrix operations like multiplication.\n",
    "array1 = np.array([[1, 2], [3, 4], [5, 6]])\n",
    "array2 = np.array([[7, 8], [9, 10], [11, 12]])\n",
    "print(\"Array 1:\\n\", array1)\n",
    "print(\"Array 2:\\n\", array2)\n",
    "array1 + array2  # Element-wise addition\n",
    "\n",
    "array1 - array2  # Element-wise subtraction\n",
    "\n",
    "array1 * array2  # Element-wise multiplication\n",
    "\n",
    "array1 @ array2.T  # Matrix multiplication (dot product)\n",
    "print(\"Matrix multiplication:\\n\", array1 @ array2.T)  # Output: [[13 16 19]\n",
    "# [29 34 39]\n",
    "# [45 52 59]]   \n",
    "\n",
    "\n",
    "# Tranpose \n",
    "\n",
    "# Transposing an array turns its rows into columns and\n",
    "# columns into rows just like matrices in mathematics. \n",
    "array3 = np.array([\n",
    "    [10,-7,0, 20],\n",
    "    [-5,1,200,40],\n",
    "    [30,1,-1,4]\n",
    "            ])\n",
    "array3\n",
    "array3.transpose() # Transpose the array\n",
    "\n",
    "# Sorting an Array\n",
    "array4 = np.array([3,1,4,2,5])\n",
    "array4.sort()  # Sort the array in place\n",
    "print(\"Sorted array:\", array4)  # Output: Sorted array: [1 2 3 4 5]\n",
    "\n",
    "array4 = np.array([\n",
    "                   [10,-7,0,20], \n",
    "                   [-5,1,200,40],\n",
    "                   [30,1,-1,4]\n",
    "                   ])\n",
    "print(\"Original array:\\n\", array4)\n",
    "array4.sort(axis=0) # Sort along the first axis (columns)\n",
    "print(\"Sorted array along columns:\\n\", array4)\n",
    "\n",
    "array4.sort(axis=1) # Sort along the second axis (rows)\n",
    "print(\"Sorted array along rows:\\n\", array4)  # Output: Sorted array along rows:\n",
    "# [[-5 -7  0 20]\n",
    "# [ 1  1  4 40]\n",
    "# [10 30 200  4]]\n",
    "\n",
    "\n"
   ]
  },
  {
   "cell_type": "markdown",
   "id": "ae2341be",
   "metadata": {},
   "source": [
    "# Concatenating Arrays - It means Joining Two or More 2-D arrays either row-wise or column-wise"
   ]
  },
  {
   "cell_type": "code",
   "execution_count": 13,
   "id": "346c045e",
   "metadata": {},
   "outputs": [
    {
     "name": "stdout",
     "output_type": "stream",
     "text": [
      "array1:\n",
      " [[ 10  20]\n",
      " [-30  40]]\n",
      "array2:\n",
      " [[0 0 0]\n",
      " [0 0 0]]\n",
      "array1.shape: (2, 2)\n",
      "array2.shape: (2, 3)\n",
      "Concatenate along rows:\n",
      " [[ 10  20]\n",
      " [-30  40]\n",
      " [  0   0]]\n",
      "Concatenate along columns:\n",
      " [[ 10  20   0   0]\n",
      " [-30  40   0   0]]\n"
     ]
    }
   ],
   "source": [
    "array1 = np.array([[10, 20], [-30, 40]])\n",
    "array2 = np.zeros((2, 3), dtype=array1.dtype)\n",
    "\n",
    "print(\"array1:\\n\", array1)\n",
    "print(\"array2:\\n\", array2)\n",
    "\n",
    "print(\"array1.shape:\", array1.shape)\n",
    "print(\"array2.shape:\", array2.shape)\n",
    "\n",
    "# For concatenation along rows (axis=0), columns must match\n",
    "array2_row = np.zeros((1, 2), dtype=array1.dtype)\n",
    "concat_rows = np.concatenate((array1, array2_row), axis=0)\n",
    "print(\"Concatenate along rows:\\n\", concat_rows)\n",
    "\n",
    "# For concatenation along columns (axis=1), rows must match\n",
    "array2_col = np.zeros((2, 2), dtype=array1.dtype)\n",
    "concat_cols = np.concatenate((array1, array2_col), axis=1)\n",
    "print(\"Concatenate along columns:\\n\", concat_cols)"
   ]
  },
  {
   "cell_type": "markdown",
   "id": "b7f28a99",
   "metadata": {},
   "source": [
    "# Reshaping Arrays\n"
   ]
  },
  {
   "cell_type": "code",
   "execution_count": null,
   "id": "47574f7c",
   "metadata": {},
   "outputs": [
    {
     "data": {
      "text/plain": [
       "array([[10, 11, 12, 13, 14, 15],\n",
       "       [16, 17, 18, 19, 20, 21]])"
      ]
     },
     "execution_count": 18,
     "metadata": {},
     "output_type": "execute_result"
    }
   ],
   "source": [
    "array3 = np.arange(10,22)\n",
    "array3\n",
    "\n",
    "# Reshaping the array\n",
    "array3.reshape(3, 4)  # Reshape to 3 rows and 4 columns\n",
    "array3.reshape(2,6) # Reshape to 2 rows and 6 columns"
   ]
  },
  {
   "cell_type": "markdown",
   "id": "5501c9f7",
   "metadata": {},
   "source": [
    "# Spliting Array"
   ]
  },
  {
   "cell_type": "code",
   "execution_count": 28,
   "id": "a1a67b61",
   "metadata": {},
   "outputs": [
    {
     "name": "stdout",
     "output_type": "stream",
     "text": [
      "First split:\n",
      " [[10 -7  0 20]]\n",
      "Second split:\n",
      " [[ -5   1 200  40]\n",
      " [ 30   1  -1   4]]\n",
      "Third split:\n",
      " [[1 2 0 4]\n",
      " [0 1 0 2]]\n",
      "First split along columns:\n",
      " [[10]\n",
      " [-5]\n",
      " [30]\n",
      " [ 1]\n",
      " [ 0]]\n",
      "First split along rows:\n",
      " [[10 -7  0 20]]\n"
     ]
    }
   ],
   "source": [
    "# Splitting an array\n",
    "# We can split an array into multiple sub-arrays.\n",
    "array4 = np.array([\n",
    "[ 10, -7, 0, 20],\n",
    "[ -5, 1, 200, 40],\n",
    "[ 30, 1, -1, 4],\n",
    "[ 1, 2, 0, 4],\n",
    "[ 0, 1, 0, 2]\n",
    "])\n",
    "\n",
    "array4\n",
    "\n",
    "first,second,third = np.array_split(array4, [1,3])\n",
    "print(\"First split:\\n\", first)  # Output: First split: [[10 -7 0 20]]\n",
    "print(\"Second split:\\n\", second)  # Output: Second split: [[-5 1 200 40]\n",
    "# [30 1 -1 4]]\n",
    "print(\"Third split:\\n\", third)  # Output: Third split: [[1 2 0 4]\n",
    "# [0 1 0 2]]    \n",
    "\n",
    "\n",
    "firstc,secondc,thirdc = np.array_split(array4, [1,2], axis=1)\n",
    "print(\"First split along columns:\\n\", firstc)  # Output: First split along\n",
    "\n",
    "firstc, secondc, thirdc = np.array_split(array4, [1, 2], axis=0)\n",
    "print(\"First split along rows:\\n\", firstc)  # Output: First split along"
   ]
  },
  {
   "cell_type": "markdown",
   "id": "c31d3cc3",
   "metadata": {},
   "source": [
    "# Statistical Operations on Array"
   ]
  },
  {
   "cell_type": "code",
   "execution_count": 37,
   "id": "69683088",
   "metadata": {},
   "outputs": [
    {
     "data": {
      "text/plain": [
       "array([3, 2])"
      ]
     },
     "execution_count": 37,
     "metadata": {},
     "output_type": "execute_result"
    }
   ],
   "source": [
    "arrayA = np.array([1,0,2,-3,6,8,4,7])\n",
    "arrayB = np.array([[3,6], [4,2]])\n",
    "arrayA.max() # Find the maximum value in arrayA\n",
    "arrayA.min() # Find the minimum value in arrayA\n",
    "arrayA.sum() # Find the sum of all elements in arrayA\n",
    "arrayA.mean() # Find the mean of all elements in arrayA\n",
    "arrayA.std() # Find the standard deviation of all elements in arrayA\n",
    "arrayA.var() # Find the variance of all elements in arrayA\n",
    "\n",
    "\n",
    "\n",
    "# max element from the whole 2-D array\n",
    "arrayB.max()\n",
    "\n",
    "# if axis=1, it gives column wise maximum\n",
    "arrayB.max(axis=1)\n",
    "arrayB.min(axis=0)"
   ]
  },
  {
   "cell_type": "code",
   "execution_count": 38,
   "id": "9886206f",
   "metadata": {},
   "outputs": [
    {
     "ename": "ModuleNotFoundError",
     "evalue": "No module named 'kagglehub'",
     "output_type": "error",
     "traceback": [
      "\u001b[31m---------------------------------------------------------------------------\u001b[39m",
      "\u001b[31mModuleNotFoundError\u001b[39m                       Traceback (most recent call last)",
      "\u001b[36mCell\u001b[39m\u001b[36m \u001b[39m\u001b[32mIn[38]\u001b[39m\u001b[32m, line 1\u001b[39m\n\u001b[32m----> \u001b[39m\u001b[32m1\u001b[39m \u001b[38;5;28;01mimport\u001b[39;00m\u001b[38;5;250m \u001b[39m\u001b[34;01mkagglehub\u001b[39;00m\n\u001b[32m      3\u001b[39m \u001b[38;5;66;03m# Download latest version\u001b[39;00m\n\u001b[32m      4\u001b[39m path = kagglehub.dataset_download(\u001b[33m\"\u001b[39m\u001b[33msaikumarvellanki/fake-retail-sales-dataset10000-rows\u001b[39m\u001b[33m\"\u001b[39m)\n",
      "\u001b[31mModuleNotFoundError\u001b[39m: No module named 'kagglehub'"
     ]
    }
   ],
   "source": [
    "import kagglehub\n",
    "\n",
    "# Download latest version\n",
    "path = kagglehub.dataset_download(\"saikumarvellanki/fake-retail-sales-dataset10000-rows\")\n",
    "\n",
    "print(\"Path to dataset files:\", path)"
   ]
  },
  {
   "cell_type": "code",
   "execution_count": null,
   "id": "8c39d15b",
   "metadata": {},
   "outputs": [],
   "source": []
  }
 ],
 "metadata": {
  "kernelspec": {
   "display_name": ".venv",
   "language": "python",
   "name": "python3"
  },
  "language_info": {
   "codemirror_mode": {
    "name": "ipython",
    "version": 3
   },
   "file_extension": ".py",
   "mimetype": "text/x-python",
   "name": "python",
   "nbconvert_exporter": "python",
   "pygments_lexer": "ipython3",
   "version": "3.13.2"
  }
 },
 "nbformat": 4,
 "nbformat_minor": 5
}
